{
 "cells": [
  {
   "cell_type": "markdown",
   "id": "5633a098",
   "metadata": {},
   "source": [
    "# Grain Boundary Generation\n",
    "GBMaker is a python package designed to help with the creation of grain boundaries.\n",
    "It contains two main structure classes and two generator classes."
   ]
  },
  {
   "cell_type": "markdown",
   "id": "bf5dbe7c",
   "metadata": {},
   "source": [
    "## Generator Classes\n",
    "The generator classes provide a simple way to create either of the two structure classes.\n",
    "### GrainBoundaryGenerator"
   ]
  },
  {
   "cell_type": "code",
   "execution_count": 5,
   "id": "be926e71",
   "metadata": {},
   "outputs": [],
   "source": [
    "from gbmaker import GrainBoundaryGenerator\n",
    "# To see further help uncomment the line below\n",
    "# help(GrainBoundaryGenerator)"
   ]
  },
  {
   "cell_type": "markdown",
   "id": "6b018d28",
   "metadata": {},
   "source": [
    "#### Initialisation\n",
    "The GrainBoundaryGenerator can be initialised from any bulk cell and will attempt to build the grains using a primitive verison of the cell with the miller index relative to the standard conventional unit cell.\n",
    "There are currently two ways of doing this:\n",
    "1) Initialising the class with a pymategen.core.Structure"
   ]
  },
  {
   "cell_type": "code",
   "execution_count": 6,
   "id": "3d30b38f",
   "metadata": {},
   "outputs": [],
   "source": [
    "from pymatgen.core import Structure\n",
    "bulk = Structure.from_magnetic_spacegroup(\n",
    "    \"Fm'-3'm\", \n",
    "    [[4.175, 0, 0], [0, 4.175, 0], [0, 0, 4.175]], \n",
    "    [\"Mg\", \"O\"], \n",
    "    [[0, 0, 0], [0.5, 0.5, 0.5]],\n",
    "    {\"magmom\": [0, 0]}\n",
    ")\n",
    "gbg = GrainBoundaryGenerator(bulk, [3, 1, 0])"
   ]
  },
  {
   "cell_type": "markdown",
   "id": "1b4663aa",
   "metadata": {},
   "source": [
    "2) Reading the structure from a file "
   ]
  },
  {
   "cell_type": "code",
   "execution_count": 7,
   "id": "769385f9",
   "metadata": {},
   "outputs": [],
   "source": [
    "gbg = GrainBoundaryGenerator.from_file(\"bulk-POSCAR\", [3, 1, 0])"
   ]
  },
  {
   "cell_type": "markdown",
   "id": "1f5d7551",
   "metadata": {},
   "source": [
    "From here grain boundaries can be built using the get_grain_boundaries() method."
   ]
  },
  {
   "cell_type": "code",
   "execution_count": 13,
   "id": "1990aafb",
   "metadata": {
    "tags": []
   },
   "outputs": [
    {
     "data": {
      "application/vnd.jupyter.widget-view+json": {
       "model_id": "0cbbcce8b06d4a08b056695182d2c383",
       "version_major": 2,
       "version_minor": 0
      },
      "text/plain": [
       "NGLWidget()"
      ]
     },
     "metadata": {},
     "output_type": "display_data"
    }
   ],
   "source": [
    "import nglview as nv\n",
    "generator = gbg.get\n",
    "grain_boundaries = [gb for gb in gbg.get_grain_boundaries(mirror_z=True, translation_vec=[0,0,2])]\n",
    "view = nv.show_pymatgen(grain_boundaries[0].get_structure())\n",
    "\n",
    "view"
   ]
  },
  {
   "cell_type": "markdown",
   "id": "116a121e",
   "metadata": {},
   "source": [
    "## Structure Classes\n",
    "The structure classes contain the relevant information required to build either a single grain or a grain boundary.\n",
    "### Grain"
   ]
  },
  {
   "cell_type": "code",
   "execution_count": null,
   "id": "18e3d153",
   "metadata": {},
   "outputs": [],
   "source": [
    "from gbmaker import Grain\n",
    "# To see further help uncomment the line below\n",
    "# help(Grain)"
   ]
  },
  {
   "cell_type": "markdown",
   "id": "89797c99",
   "metadata": {},
   "source": [
    "Initialising a Grain is often done from the specialised generator class.\n",
    "However the class has its own class method for initialising from an oriented unit cell.\n",
    "It is recommended to initialise using this method over constructing the grain itself as the oriented unit cell has special requirements that are ensured by this method."
   ]
  },
  {
   "cell_type": "code",
   "execution_count": null,
   "id": "c8fc1e01",
   "metadata": {},
   "outputs": [],
   "source": [
    "from pymatgen.core import Structure\n",
    "ouc = Structure.from_file(\"./ouc_POSCAR\")\n",
    "print(ouc)"
   ]
  },
  {
   "cell_type": "code",
   "execution_count": null,
   "id": "5bbe2c62",
   "metadata": {},
   "outputs": [],
   "source": [
    "grain = Grain.from_oriented_unit_cell(ouc, [3, 1, 0], 0)\n",
    "print(grain.oriented_unit_cell)"
   ]
  },
  {
   "cell_type": "code",
   "execution_count": null,
   "id": "8d8fa10c",
   "metadata": {},
   "outputs": [],
   "source": []
  }
 ],
 "metadata": {
  "kernelspec": {
   "display_name": "Python 3",
   "language": "python",
   "name": "python3"
  },
  "language_info": {
   "codemirror_mode": {
    "name": "ipython",
    "version": 3
   },
   "file_extension": ".py",
   "mimetype": "text/x-python",
   "name": "python",
   "nbconvert_exporter": "python",
   "pygments_lexer": "ipython3",
   "version": "3.8.2"
  }
 },
 "nbformat": 4,
 "nbformat_minor": 5
}
