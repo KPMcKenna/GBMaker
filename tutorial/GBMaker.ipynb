{
 "cells": [
  {
   "cell_type": "markdown",
   "id": "5633a098",
   "metadata": {},
   "source": [
    "# Grain Boundary Generation\n",
    "GBMaker is a python package designed to help with the creation of grain boundaries.\n",
    "It contains two main structure classes and two generator classes."
   ]
  },
  {
   "cell_type": "markdown",
   "id": "bf5dbe7c",
   "metadata": {},
   "source": [
    "## Generator Classes\n",
    "The generator classes provide a simple way to create either of the two structure classes.\n",
    "### GrainBoundaryGenerator"
   ]
  },
  {
   "cell_type": "code",
   "execution_count": null,
   "id": "be926e71",
   "metadata": {},
   "outputs": [],
   "source": [
    "from gbmaker import GrainBoundaryGenerator\n",
    "# To see further help uncomment the line below\n",
    "# help(GrainBoundaryGenerator)"
   ]
  },
  {
   "cell_type": "markdown",
   "id": "6b018d28",
   "metadata": {},
   "source": [
    "#### Initialisation\n",
    "The GrainBoundaryGenerator can be initialised from any bulk cell and will attempt to build the grains using a primitive verison of the cell with the miller index relative to the standard conventional unit cell.\n",
    "There are currently two ways of doing this:\n",
    "1) Initialising the class with a pymategen.core.Structure"
   ]
  },
  {
   "cell_type": "code",
   "execution_count": null,
   "id": "3d30b38f",
   "metadata": {},
   "outputs": [],
   "source": [
    "from pymatgen.core import Structure\n",
    "bulk = Structure(\n",
    "    [[4.175, 0, 0], [0, 4.175, 0], [0, 0, 4.175]], \n",
    "    [\"Mg\", \"Mg\", \"O\", \"O\"], \n",
    "    [[0, 0, 0], [0.5, 0.5, 0.5], [0.5, 0.5, 0], [0, 0, 0.5]],\n",
    ")\n",
    "gbg = GrainBoundaryGenerator(bulk, [3, 1, 0])"
   ]
  },
  {
   "cell_type": "markdown",
   "id": "1b4663aa",
   "metadata": {},
   "source": [
    "2) Reading the structure from a file "
   ]
  },
  {
   "cell_type": "code",
   "execution_count": null,
   "id": "769385f9",
   "metadata": {},
   "outputs": [],
   "source": [
    "gbg = GrainBoundaryGenerator.from_file(\n",
    "    \"bulk-POSCAR\", \n",
    "    [3, 1, 0], \n",
    "    mirror_z=True, \n",
    "    translation_vec=[0,0,2.0],\n",
    "    bulk_repeats=3,\n",
    "    orthogonal_c=True,\n",
    ")\n",
    "grain_boundaries = gbg.get_grain_boundaries()"
   ]
  },
  {
   "cell_type": "markdown",
   "id": "1f5d7551",
   "metadata": {},
   "source": [
    "Notice the warning returned. This is because the bulk cell supplied here is not the same as the conventional unit cell.\n",
    "## Important\n",
    "The GrainBoundaryGenerator will build the grains using a primitive cell as a way to try and reduce the size of the outputted Structure. **However the miller index is relative to the standard conventional unit cell.** This means the cell supplied is not always the cell that the miller indices are relative to. "
   ]
  },
  {
   "cell_type": "markdown",
   "id": "a59c10d2-ac9f-4bc5-a3d2-7efef22a760f",
   "metadata": {},
   "source": [
    "From here grain boundaries can be built using the get_grain_boundaries() method.\n",
    "And visualised using any library that interfaces with pymatgen."
   ]
  },
  {
   "cell_type": "code",
   "execution_count": null,
   "id": "1990aafb",
   "metadata": {
    "tags": []
   },
   "outputs": [],
   "source": [
    "import nglview as nv\n",
    "\n",
    "struct = grain_boundaries[0].get_structure()\n",
    "\n",
    "view = nv.show_pymatgen(struct)\n",
    "view.clear()\n",
    "view.add_ball_and_stick(assembly=\"UNITCELL\")\n",
    "view.add_unitcell()\n",
    "view"
   ]
  },
  {
   "cell_type": "markdown",
   "id": "116a121e",
   "metadata": {
    "tags": []
   },
   "source": [
    "## Structure Classes\n",
    "The structure classes contain the relevant information required to build either a single grain or a grain boundary.\n",
    "### Grain"
   ]
  },
  {
   "cell_type": "code",
   "execution_count": null,
   "id": "18e3d153",
   "metadata": {},
   "outputs": [],
   "source": [
    "from gbmaker import Grain\n",
    "# To see further help uncomment the line below\n",
    "# help(Grain)"
   ]
  },
  {
   "cell_type": "markdown",
   "id": "89797c99",
   "metadata": {},
   "source": [
    "Initialising a Grain is often done from the specialised generator class.\n",
    "However the class has its own class method for initialising from an oriented unit cell.\n",
    "It is recommended to initialise using this method over constructing the grain itself as the oriented unit cell has special requirements that are ensured by this method."
   ]
  },
  {
   "cell_type": "code",
   "execution_count": null,
   "id": "c8fc1e01",
   "metadata": {},
   "outputs": [],
   "source": [
    "from pymatgen.core import Structure\n",
    "ouc = Structure.from_file(\"./ouc_POSCAR\")\n",
    "print(ouc)"
   ]
  },
  {
   "cell_type": "code",
   "execution_count": null,
   "id": "5bbe2c62",
   "metadata": {},
   "outputs": [],
   "source": [
    "grain = Grain.from_oriented_unit_cell(ouc, [3, 1, 0], 0)\n",
    "print(grain.oriented_unit_cell)"
   ]
  },
  {
   "cell_type": "code",
   "execution_count": null,
   "id": "8d8fa10c",
   "metadata": {},
   "outputs": [],
   "source": []
  }
 ],
 "metadata": {
  "kernelspec": {
   "display_name": "Python 3",
   "language": "python",
   "name": "python3"
  },
  "language_info": {
   "codemirror_mode": {
    "name": "ipython",
    "version": 3
   },
   "file_extension": ".py",
   "mimetype": "text/x-python",
   "name": "python",
   "nbconvert_exporter": "python",
   "pygments_lexer": "ipython3",
   "version": "3.8.2"
  }
 },
 "nbformat": 4,
 "nbformat_minor": 5
}
