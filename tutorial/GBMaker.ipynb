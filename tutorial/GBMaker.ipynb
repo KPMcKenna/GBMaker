{
 "cells": [
  {
   "cell_type": "markdown",
   "id": "5633a098",
   "metadata": {},
   "source": [
    "# Grain Boundary Generation\n",
    "GBMaker is a python package designed to help with the creation of grain boundaries.\n",
    "It contains two main structure classes and two generator classes."
   ]
  },
  {
   "cell_type": "markdown",
   "id": "bf5dbe7c",
   "metadata": {},
   "source": [
    "## Generator Classes\n",
    "The generator classes provide a simple way to create either of the two structure classes.\n",
    "Being generators they are designed to be iterated over however, contain a method to return a `list` of their contents. \n",
    "### GrainBoundaryGenerator\n",
    "The GrainBoundaryGenerator is a class that builds an iterator of symmetrically inequivalent terminations of Grains in a GrainBoundary.\n",
    "It is initialised with the required information to build a GrainBoundary and has a single method, `get_grain_boundaries()`, that is equivalent to `list(GrainBoundaryGenerator)`.\n",
    "It is the simplest and often most efficient way to create `GrainBoundaries` as it will call the `GrainGenerator` and can handle the creation of different `Grains` either side of the boundary."
   ]
  },
  {
   "cell_type": "code",
   "execution_count": null,
   "id": "be926e71",
   "metadata": {},
   "outputs": [],
   "source": [
    "from gbmaker import GrainBoundaryGenerator\n",
    "# To see further help uncomment the line below\n",
    "# help(GrainBoundaryGenerator)"
   ]
  },
  {
   "cell_type": "markdown",
   "id": "6b018d28",
   "metadata": {},
   "source": [
    "#### Initialisation\n",
    "The GrainBoundaryGenerator can be initialised from any bulk cell and will attempt to build the grains using a primitive verison of the cell with the miller index relative to the standard conventional unit cell.\n",
    "There are currently two ways of doing this:\n",
    "1) Initialising the class with a pymategen.core.Structure"
   ]
  },
  {
   "cell_type": "code",
   "execution_count": null,
   "id": "3d30b38f",
   "metadata": {},
   "outputs": [],
   "source": [
    "from pymatgen.core import Structure\n",
    "bulk = Structure(\n",
    "    [[4.175, 0, 0], [0, 4.175, 0], [0, 0, 4.175]], \n",
    "    [\"Mg\", \"Mg\", \"O\", \"O\"], \n",
    "    [[0, 0, 0], [0.5, 0.5, 0.5], [0.5, 0.5, 0], [0, 0, 0.5]],\n",
    ")\n",
    "gbg = GrainBoundaryGenerator(\n",
    "    bulk, \n",
    "    [3, 1, 0],\n",
    "    mirror_z=True, \n",
    "    translation_vec=[0,0,2.0],\n",
    "    bulk_repeats=3,\n",
    "    orthogonal_c=True,\n",
    ")"
   ]
  },
  {
   "cell_type": "markdown",
   "id": "1b4663aa",
   "metadata": {},
   "source": [
    "2) Reading the structure from a file "
   ]
  },
  {
   "cell_type": "code",
   "execution_count": null,
   "id": "769385f9",
   "metadata": {},
   "outputs": [],
   "source": [
    "gbg = GrainBoundaryGenerator.from_file(\n",
    "    \"bulk-POSCAR\", \n",
    "    [3, 1, 0], \n",
    "    mirror_z=True, \n",
    "    translation_vec=[0,0,2.0],\n",
    "    bulk_repeats=3,\n",
    "    orthogonal_c=True,\n",
    ")\n",
    "grain_boundaries = gbg.get_grain_boundaries()"
   ]
  },
  {
   "cell_type": "markdown",
   "id": "1f5d7551",
   "metadata": {},
   "source": [
    "Notice the warning returned. This is because the bulk cell supplied here is not the same as the conventional unit cell.\n",
    "## Important\n",
    "The GrainBoundaryGenerator will build the grains using a primitive cell as a way to try and reduce the size of the outputted Structure. **However the miller index is relative to the standard conventional unit cell.** This means the cell supplied is not always the cell that the miller indices are relative to. "
   ]
  },
  {
   "cell_type": "markdown",
   "id": "a59c10d2-ac9f-4bc5-a3d2-7efef22a760f",
   "metadata": {},
   "source": [
    "From here grain boundaries can be built using the get_grain_boundaries() method.\n",
    "And visualised using any library that interfaces with pymatgen."
   ]
  },
  {
   "cell_type": "code",
   "execution_count": null,
   "id": "1990aafb",
   "metadata": {
    "tags": []
   },
   "outputs": [],
   "source": [
    "import nglview as nv\n",
    "\n",
    "struct = grain_boundaries[0].get_structure()\n",
    "\n",
    "view = nv.show_pymatgen(struct)\n",
    "view.clear()\n",
    "view.add_ball_and_stick(assembly=\"UNITCELL\")\n",
    "view.add_unitcell()\n",
    "view"
   ]
  },
  {
   "cell_type": "markdown",
   "id": "ff49c515-2172-4e5b-9765-b75906021ff4",
   "metadata": {},
   "source": [
    "### Arguments for Initialising GrainBoundaryGenerator\n",
    "#### `bulk_0: Structure`\n",
    "This this the bulk cell to be analysed for finding the conventional and primitive cell. \n",
    "Unless this is the conventional cell a warning will be shown displaying the conventional cell that was found. \n",
    "#### `miller_0: ArrayLike`\n",
    "This is the miller index of the `Grain` and is relative to the conventional cell found by the symmetry analyser.\n",
    "#### `bulk_1: Optional[Structure] = None`\n",
    "An optional second `Structure` can be passed as the bulk cell to be used for the second grain. \n",
    "This is useful for creating interfaces between materials.\n",
    "**Currently there is no checking for commensurate lattices.**\n",
    "Lattices will be made as orthogonal as possible without increasing the number of atoms in the oriented unit cell.\n",
    "Further matching must be done by the user.\n",
    "The second `Grain` is scaled such that its a and b fractional are the same in the first `Grain`'s lattice whilst maintaining its own spacing in the Cartesian z-direction.\n",
    "#### `miller_1: Optional[ArrayLike] = None`\n",
    "An optional second index can be supplied for the second `Grain`.\n",
    "This is useful for creating aymmetric `GrainBoundries`.\n",
    "Like with the optional second bulk `Structure` there is no lattice matching attempted and the user is responsible for making the lattices commensurate.\n",
    "#### `mirror_x: bool = False`\n",
    "The second `Grain` can be mirrored along any of the 3 Cartesian directions, this flag will mirror it along the x-direction if set to `True`.\n",
    "#### `mirror_y: bool = False`\n",
    "The second `Grain` can be mirrored along any of the 3 Cartesian directions, this flag will mirror it along the y-direction if set to `True`.\n",
    "#### `mirror_z: bool = False`\n",
    "The second `Grain` can be mirrored along any of the 3 Cartesian directions, this flag will mirror it along the z-direction if set to `True`. \n",
    "This is most commonly used for creating twinned `GrainBoundaries`.\n",
    "#### `vacuum: Optional[float] = None`\n",
    "Incases where the `Grains` are asymmetric the `GrainBoundaries` can have two disinct interfaces, in this case a vacuum gap can be inserted between them so that the there is only one interface and two surfaces.\n",
    "When no vacuum is supplied the z-component of the `translation_vec` is used to seperate both interfaces.\n",
    "#### `translation_vec: ArrayLike = [0.0, 0.0, 0.0]`\n",
    "This vector is applied to the second `Grain` to shift it relative to the first. \n",
    "It is in Cartesian coordinates and has the unit Angstrom.\n",
    "#### `merge_tol: Optional[float] = None`\n",
    "An optional tolerance, in Angstrom, for merging atoms at the boundary together.\n",
    "If used this will often raise a warning as the site properties of the merged atoms will be removed if they are different. \n",
    "This is okay to ignore. \n",
    "#### `reconstruction: Optional[Callable[[\"Grain\", Site], bool]] = None`\n",
    "An optional function that excepts a `Grain` and `Site` and returns a `True` or `False` value on whether that site should be included in the structure.\n",
    "An example of this is provided in examples/MgO/11-2_grain_boundary_reconstruction.py.\n",
    "#### `ftol: float = 0.1`\n",
    "A tolerance for calculating possible shifts in the c-direction of the oriented unit cell.\n",
    "#### `tol: float = 0.1`\n",
    "A symmetry tolerance for matching `Structures` so that `Grains` with the same termintion are only generated once.\n",
    "#### `max_broken_bonds: int = 0`\n",
    "How many broken bonds, from [bonds](#bonds:-Optional[Dict[Sequence[SpeciesLike],-float]]-=-None), are allowed before the `Grain` is either repaired or discarded.\n",
    "#### `bonds: Optional[Dict[Sequence[SpeciesLike], float]] = None`\n",
    "An optional dictionary describing maximum bond lengths between pairs of atoms. \n",
    "If this is passed along with `repair` then surfaces will be \"repaired\" by moving atoms from one side of the grain to the other to try to satisfy the bulk coordination of the atoms.\n",
    "#### `repair: bool = False`\n",
    "If the [max_broken_bonds](#max_broken_bonds:-int-=-0) is violated then should we attempt to repair the surface.\n",
    "#### `symmetrize: bool = False`\n",
    "A flag on whether only symmetric `Grain` terminations should be considered.\n",
    "If the `Grain` is asymmetric then we should try and make it symmetric by removing atoms from the surface, this results in a non-stoichiometric `Grain`.\n",
    "If symmetric and stoichiometric `Grains` are required then the `GrainBoundaryGenerator` can be filtered to exclude the `Grains` with the property `symmetrize = True`.\n",
    "#### `bulk_repeats: int = 1`\n",
    "There are three ways to set the thickness of the `Grains` in the `GrainBoundary` and only one is considered.\n",
    "The hierarchy of these arguments is as follows:\n",
    "1) [hkl_thickness](#hkl_thickness:-Optional[float]-=-None)\n",
    "2) [thickness](#thickness:-Optional[float]-=-None)\n",
    "3) [bulk_repeats](#bulk_repeats:-int-=-1)\n",
    "\n",
    "This method will set the amount of periodic repeats of the oriented unit cell to use in both `Grains`.\n",
    "#### `thickness: Optional[float] = None`\n",
    "There are three ways to set the thickness of the `Grains` in the `GrainBoundary` and only one is considered.\n",
    "The hierarchy of these arguments is as follows:\n",
    "1) [hkl_thickness](#hkl_thickness:-Optional[float]-=-None)\n",
    "2) [thickness](#thickness:-Optional[float]-=-None)\n",
    "3) [bulk_repeats](#bulk_repeats:-int-=-1)\n",
    "\n",
    "This method will set the minimum required thickness ensure that both `Grains` are atleast as thick as the supplied thickness in Angstrom.\n",
    "#### `hkl_thickness: Optional[float] = None`\n",
    "There are three ways to set the thickness of the `Grains` in the `GrainBoundary` and only one is considered.\n",
    "The hierarchy of these arguments is as follows:\n",
    "1) [hkl_thickness](#hkl_thickness:-Optional[float]-=-None)\n",
    "2) [thickness](#thickness:-Optional[float]-=-None)\n",
    "3) [bulk_repeats](#bulk_repeats:-int-=-1)\n",
    "\n",
    "This method will set the minimum required thickness ensure that both `Grains` are atleast as thick as the supplied thickness in hkl units.\n",
    "#### `orthogonal_c: bool = False`\n",
    "This flag will set the c-vector to be aligned along the z-axis.\n",
    "This is useful for ensuring that the boundaries between the `Grains` are symmetric in terms of relative position.\n",
    "\n",
    "The arguments for the class method `from_file` are identical however the filenames for the bulk structures are supplied rather than the `Structure`. "
   ]
  },
  {
   "cell_type": "code",
   "execution_count": null,
   "id": "4896345a-0820-402e-9bda-113cb1ef6221",
   "metadata": {},
   "outputs": [],
   "source": [
    "gbg = GrainBoundaryGenerator.from_file(\n",
    "    filename_0=\"bulk-POSCAR\", \n",
    "    miller_0=[1, 1, 1],\n",
    "    filename_1=None,\n",
    "    miller_1=None,\n",
    "    mirror_x=False,\n",
    "    mirror_y=False,\n",
    "    mirror_z=True, \n",
    "    vacuum=None,\n",
    "    translation_vec=[0,0,0],\n",
    "    merge_tol=0.1,\n",
    "    reconstruction=None,\n",
    "    ftol=0.1,\n",
    "    tol=0.1,\n",
    "    max_broken_bonds=0,\n",
    "    bonds=None,\n",
    "    repair=False,\n",
    "    symmetrize=True,\n",
    "    bulk_repeats=3,\n",
    "    thickness=None,\n",
    "    hkl_thickness=None,\n",
    "    orthogonal_c=True,\n",
    ")\n",
    "gb_list = gbg.get_grain_boundaries()\n",
    "for gb in gb_list:\n",
    "    gb.ab_supercell([2, 2])\n",
    "\n",
    "top_view = nv.show_pymatgen(gb_list[0].get_sorted_structure())\n",
    "top_view.clear()\n",
    "top_view.add_ball_and_stick(assembly=\"UNITCELL\")\n",
    "top_view.add_unitcell()\n",
    "bottom_view = nv.show_pymatgen(gb_list[1].get_sorted_structure())\n",
    "bottom_view.clear()\n",
    "bottom_view.add_ball_and_stick(assembly=\"UNITCELL\")\n",
    "bottom_view.add_unitcell()\n",
    "import ipywidgets as ipw\n",
    "ipw.VBox([top_view, bottom_view])"
   ]
  },
  {
   "cell_type": "markdown",
   "id": "f40021fe-ae0d-4a4e-9b86-3997d5c6dae5",
   "metadata": {},
   "source": [
    "### Using the GrainBoundaryGenerator\n"
   ]
  },
  {
   "cell_type": "markdown",
   "id": "116a121e",
   "metadata": {
    "tags": []
   },
   "source": [
    "## Structure Classes\n",
    "The structure classes contain the relevant information required to build either a single grain or a grain boundary.\n",
    "### Grain"
   ]
  },
  {
   "cell_type": "code",
   "execution_count": null,
   "id": "18e3d153",
   "metadata": {},
   "outputs": [],
   "source": [
    "from gbmaker import Grain\n",
    "# To see further help uncomment the line below\n",
    "# help(Grain)"
   ]
  },
  {
   "cell_type": "markdown",
   "id": "89797c99",
   "metadata": {},
   "source": [
    "Initialising a Grain is often done from the specialised generator class.\n",
    "However the class has its own class method for initialising from an oriented unit cell.\n",
    "It is recommended to initialise using this method over constructing the grain itself as the oriented unit cell has special requirements that are ensured by this method."
   ]
  },
  {
   "cell_type": "code",
   "execution_count": null,
   "id": "c8fc1e01",
   "metadata": {},
   "outputs": [],
   "source": [
    "from pymatgen.core import Structure\n",
    "ouc = Structure.from_file(\"./ouc_POSCAR\")\n",
    "print(ouc)"
   ]
  },
  {
   "cell_type": "code",
   "execution_count": null,
   "id": "5bbe2c62",
   "metadata": {},
   "outputs": [],
   "source": [
    "grain = Grain.from_oriented_unit_cell(ouc, [3, 1, 0], 0)\n",
    "print(grain.oriented_unit_cell)"
   ]
  },
  {
   "cell_type": "code",
   "execution_count": null,
   "id": "8d8fa10c",
   "metadata": {},
   "outputs": [],
   "source": []
  }
 ],
 "metadata": {
  "kernelspec": {
   "display_name": "Python 3",
   "language": "python",
   "name": "python3"
  },
  "language_info": {
   "codemirror_mode": {
    "name": "ipython",
    "version": 3
   },
   "file_extension": ".py",
   "mimetype": "text/x-python",
   "name": "python",
   "nbconvert_exporter": "python",
   "pygments_lexer": "ipython3",
   "version": "3.8.2"
  }
 },
 "nbformat": 4,
 "nbformat_minor": 5
}
